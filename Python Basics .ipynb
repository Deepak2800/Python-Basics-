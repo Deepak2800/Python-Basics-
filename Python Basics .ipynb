{
 "cells": [
  {
   "cell_type": "code",
   "execution_count": 1,
   "id": "12c5962f-5bd0-4a3e-b591-383ffd279a9d",
   "metadata": {},
   "outputs": [
    {
     "data": {
      "text/plain": [
       "2"
      ]
     },
     "execution_count": 1,
     "metadata": {},
     "output_type": "execute_result"
    }
   ],
   "source": [
    "1+1"
   ]
  },
  {
   "cell_type": "code",
   "execution_count": 4,
   "id": "5538d435-7a4d-49c7-8768-1dda3fa0ad7d",
   "metadata": {},
   "outputs": [
    {
     "name": "stdout",
     "output_type": "stream",
     "text": [
      "python supports scripting\n"
     ]
    }
   ],
   "source": [
    "5*5\n",
    "print(\"python supports scripting\")"
   ]
  },
  {
   "cell_type": "code",
   "execution_count": 5,
   "id": "0f914655-0349-4867-bd50-94534de2ca7a",
   "metadata": {},
   "outputs": [],
   "source": [
    "a = 10"
   ]
  },
  {
   "cell_type": "code",
   "execution_count": 7,
   "id": "286dc7ba-2e6e-47a3-9e3d-3e72f8288d50",
   "metadata": {},
   "outputs": [
    {
     "data": {
      "text/plain": [
       "10"
      ]
     },
     "execution_count": 7,
     "metadata": {},
     "output_type": "execute_result"
    }
   ],
   "source": [
    "a"
   ]
  },
  {
   "cell_type": "code",
   "execution_count": 8,
   "id": "3a263234-a090-4362-a3b5-b4505037e1f5",
   "metadata": {},
   "outputs": [],
   "source": [
    "deep = 5"
   ]
  },
  {
   "cell_type": "code",
   "execution_count": 9,
   "id": "4fdc76d5-367c-4e6e-a135-20f403f10ac9",
   "metadata": {},
   "outputs": [
    {
     "data": {
      "text/plain": [
       "5"
      ]
     },
     "execution_count": 9,
     "metadata": {},
     "output_type": "execute_result"
    }
   ],
   "source": [
    "deep"
   ]
  },
  {
   "cell_type": "code",
   "execution_count": 10,
   "id": "df011767-ddad-46ff-a5d8-5c8877bdbad1",
   "metadata": {},
   "outputs": [
    {
     "data": {
      "text/plain": [
       "15"
      ]
     },
     "execution_count": 10,
     "metadata": {},
     "output_type": "execute_result"
    }
   ],
   "source": [
    "a + deep"
   ]
  },
  {
   "cell_type": "code",
   "execution_count": 11,
   "id": "3073e1b8-7687-4d3c-98b9-fbbcdbd9fc59",
   "metadata": {},
   "outputs": [
    {
     "data": {
      "text/plain": [
       "int"
      ]
     },
     "execution_count": 11,
     "metadata": {},
     "output_type": "execute_result"
    }
   ],
   "source": [
    "type(a)"
   ]
  },
  {
   "cell_type": "code",
   "execution_count": 12,
   "id": "e99cf511-042a-4de5-9d6b-01560a93447b",
   "metadata": {},
   "outputs": [
    {
     "data": {
      "text/plain": [
       "int"
      ]
     },
     "execution_count": 12,
     "metadata": {},
     "output_type": "execute_result"
    }
   ],
   "source": [
    "type(deep)"
   ]
  },
  {
   "cell_type": "code",
   "execution_count": 14,
   "id": "5e888ca7-544a-4be1-95bb-f1cf338d82f4",
   "metadata": {},
   "outputs": [
    {
     "name": "stdout",
     "output_type": "stream",
     "text": [
      "integer are whole numbers which are stored\n"
     ]
    }
   ],
   "source": [
    "print(\"integer are whole numbers which are stored\")"
   ]
  },
  {
   "cell_type": "code",
   "execution_count": 15,
   "id": "addb499f-61bd-42b8-a35c-bd15317a909d",
   "metadata": {},
   "outputs": [],
   "source": [
    "b = 2.09"
   ]
  },
  {
   "cell_type": "code",
   "execution_count": 17,
   "id": "54067fed-b7c0-4b11-8b4f-89a8f01db7c5",
   "metadata": {},
   "outputs": [
    {
     "data": {
      "text/plain": [
       "float"
      ]
     },
     "execution_count": 17,
     "metadata": {},
     "output_type": "execute_result"
    }
   ],
   "source": [
    "type(b)\n"
   ]
  },
  {
   "cell_type": "code",
   "execution_count": 18,
   "id": "45eabf13-8ea4-4131-9fc6-d0c8f397b67e",
   "metadata": {},
   "outputs": [
    {
     "name": "stdout",
     "output_type": "stream",
     "text": [
      "float basically decimal vale numbers hote h\n"
     ]
    }
   ],
   "source": [
    "print(\"float basically decimal vale numbers hote h\")"
   ]
  },
  {
   "cell_type": "code",
   "execution_count": 19,
   "id": "859638cc-b803-4afc-9764-8ebfa6fd71d8",
   "metadata": {},
   "outputs": [],
   "source": [
    "c = 27.896"
   ]
  },
  {
   "cell_type": "code",
   "execution_count": 20,
   "id": "0f845af6-df40-4f46-93ba-98ecd0da0ac9",
   "metadata": {},
   "outputs": [
    {
     "data": {
      "text/plain": [
       "float"
      ]
     },
     "execution_count": 20,
     "metadata": {},
     "output_type": "execute_result"
    }
   ],
   "source": [
    "type(c)"
   ]
  },
  {
   "cell_type": "code",
   "execution_count": 21,
   "id": "26f32233-c2a0-403e-aa89-d4c4744aa644",
   "metadata": {},
   "outputs": [],
   "source": [
    "d = \"Deepak\""
   ]
  },
  {
   "cell_type": "code",
   "execution_count": 22,
   "id": "b67d7b84-1f37-44ee-a280-f324b277d27d",
   "metadata": {},
   "outputs": [
    {
     "data": {
      "text/plain": [
       "str"
      ]
     },
     "execution_count": 22,
     "metadata": {},
     "output_type": "execute_result"
    }
   ],
   "source": [
    "type(d)"
   ]
  },
  {
   "cell_type": "code",
   "execution_count": 23,
   "id": "8e3a8586-ba85-4505-8f69-db81279ffeef",
   "metadata": {},
   "outputs": [
    {
     "name": "stdout",
     "output_type": "stream",
     "text": [
      "string basically line and string double corse me aayegi\n"
     ]
    }
   ],
   "source": [
    "print(\"string basically line and string double corse me aayegi\")"
   ]
  },
  {
   "cell_type": "code",
   "execution_count": 24,
   "id": "8b34f4d5-5b67-4a9c-a312-f81e76c34752",
   "metadata": {},
   "outputs": [],
   "source": [
    "e = \"deepak is learning python\""
   ]
  },
  {
   "cell_type": "code",
   "execution_count": 25,
   "id": "e03c36a7-a681-4a80-b096-dc0a8a646f52",
   "metadata": {},
   "outputs": [
    {
     "data": {
      "text/plain": [
       "str"
      ]
     },
     "execution_count": 25,
     "metadata": {},
     "output_type": "execute_result"
    }
   ],
   "source": [
    "type(e)"
   ]
  },
  {
   "cell_type": "code",
   "execution_count": 26,
   "id": "8d02c972-f98b-4fe7-9bca-e3aa193438cb",
   "metadata": {},
   "outputs": [],
   "source": [
    "n = True"
   ]
  },
  {
   "cell_type": "code",
   "execution_count": 27,
   "id": "a93559a1-bd58-4d9e-ac6b-c24ec8d150b1",
   "metadata": {},
   "outputs": [
    {
     "data": {
      "text/plain": [
       "bool"
      ]
     },
     "execution_count": 27,
     "metadata": {},
     "output_type": "execute_result"
    }
   ],
   "source": [
    "type(n)"
   ]
  },
  {
   "cell_type": "code",
   "execution_count": 28,
   "id": "c75b262a-21f1-49f5-bf5e-5cb8481da0ad",
   "metadata": {},
   "outputs": [],
   "source": [
    "m = False"
   ]
  },
  {
   "cell_type": "code",
   "execution_count": 29,
   "id": "c79ae58c-4dd6-4314-a539-717b0a7c9220",
   "metadata": {},
   "outputs": [
    {
     "data": {
      "text/plain": [
       "bool"
      ]
     },
     "execution_count": 29,
     "metadata": {},
     "output_type": "execute_result"
    }
   ],
   "source": [
    "type(m)"
   ]
  },
  {
   "cell_type": "code",
   "execution_count": 30,
   "id": "d52dbcdb-3635-4aff-b0df-a284c80bad8e",
   "metadata": {},
   "outputs": [
    {
     "data": {
      "text/plain": [
       "1"
      ]
     },
     "execution_count": 30,
     "metadata": {},
     "output_type": "execute_result"
    }
   ],
   "source": [
    "n+m"
   ]
  },
  {
   "cell_type": "code",
   "execution_count": 31,
   "id": "f7b76100-8058-4d63-8e05-3f9219479ac5",
   "metadata": {},
   "outputs": [
    {
     "data": {
      "text/plain": [
       "0"
      ]
     },
     "execution_count": 31,
     "metadata": {},
     "output_type": "execute_result"
    }
   ],
   "source": [
    "n*m"
   ]
  },
  {
   "cell_type": "code",
   "execution_count": 32,
   "id": "688c96e3-7ca9-43b2-a172-4dd8f6a8a0f6",
   "metadata": {},
   "outputs": [
    {
     "data": {
      "text/plain": [
       "1"
      ]
     },
     "execution_count": 32,
     "metadata": {},
     "output_type": "execute_result"
    }
   ],
   "source": [
    "True * True"
   ]
  },
  {
   "cell_type": "code",
   "execution_count": 33,
   "id": "86e6dad0-efc1-4677-b0fc-1d163ba9145c",
   "metadata": {},
   "outputs": [
    {
     "data": {
      "text/plain": [
       "0"
      ]
     },
     "execution_count": 33,
     "metadata": {},
     "output_type": "execute_result"
    }
   ],
   "source": [
    "True * False"
   ]
  },
  {
   "cell_type": "code",
   "execution_count": 34,
   "id": "6b3b6d6e-0237-483c-899f-7016e77c3f62",
   "metadata": {},
   "outputs": [
    {
     "ename": "ZeroDivisionError",
     "evalue": "division by zero",
     "output_type": "error",
     "traceback": [
      "\u001b[0;31m---------------------------------------------------------------------------\u001b[0m",
      "\u001b[0;31mZeroDivisionError\u001b[0m                         Traceback (most recent call last)",
      "Cell \u001b[0;32mIn[34], line 1\u001b[0m\n\u001b[0;32m----> 1\u001b[0m \u001b[38;5;28;43;01mTrue\u001b[39;49;00m\u001b[43m \u001b[49m\u001b[38;5;241;43m/\u001b[39;49m\u001b[43m \u001b[49m\u001b[38;5;28;43;01mFalse\u001b[39;49;00m\n",
      "\u001b[0;31mZeroDivisionError\u001b[0m: division by zero"
     ]
    }
   ],
   "source": [
    "True / False"
   ]
  },
  {
   "cell_type": "code",
   "execution_count": 35,
   "id": "1abf39f4-df27-4d37-a1b1-74b66d88cd3a",
   "metadata": {},
   "outputs": [
    {
     "data": {
      "text/plain": [
       "0.0"
      ]
     },
     "execution_count": 35,
     "metadata": {},
     "output_type": "execute_result"
    }
   ],
   "source": [
    "False / True"
   ]
  },
  {
   "cell_type": "code",
   "execution_count": 36,
   "id": "1a37ba51-b5a0-4c2e-bad0-61b6fd8de7a7",
   "metadata": {},
   "outputs": [],
   "source": [
    "v = 5 + 8j"
   ]
  },
  {
   "cell_type": "code",
   "execution_count": 37,
   "id": "0dac5c12-708b-43ff-b336-2209fdc0671e",
   "metadata": {},
   "outputs": [
    {
     "data": {
      "text/plain": [
       "complex"
      ]
     },
     "execution_count": 37,
     "metadata": {},
     "output_type": "execute_result"
    }
   ],
   "source": [
    "type(v)"
   ]
  },
  {
   "cell_type": "code",
   "execution_count": 38,
   "id": "f96e52e0-dd56-4ef1-8c49-fb4580a4417e",
   "metadata": {},
   "outputs": [
    {
     "data": {
      "text/plain": [
       "5.0"
      ]
     },
     "execution_count": 38,
     "metadata": {},
     "output_type": "execute_result"
    }
   ],
   "source": [
    "v.real"
   ]
  },
  {
   "cell_type": "code",
   "execution_count": 39,
   "id": "ac7f3f32-5407-46c5-b5c4-2624cd34488a",
   "metadata": {},
   "outputs": [
    {
     "data": {
      "text/plain": [
       "8.0"
      ]
     },
     "execution_count": 39,
     "metadata": {},
     "output_type": "execute_result"
    }
   ],
   "source": [
    "v.imag"
   ]
  },
  {
   "cell_type": "code",
   "execution_count": 40,
   "id": "a1896519-bf53-4a81-a382-48dfda931666",
   "metadata": {},
   "outputs": [],
   "source": [
    "s = \"pwskills\""
   ]
  },
  {
   "cell_type": "code",
   "execution_count": 41,
   "id": "90cc491d-0618-4f23-b9aa-8be7685f484e",
   "metadata": {},
   "outputs": [
    {
     "data": {
      "text/plain": [
       "str"
      ]
     },
     "execution_count": 41,
     "metadata": {},
     "output_type": "execute_result"
    }
   ],
   "source": [
    "type(s)"
   ]
  },
  {
   "cell_type": "code",
   "execution_count": 43,
   "id": "8464d184-4b5e-42d6-8673-04b71530c4f0",
   "metadata": {},
   "outputs": [
    {
     "data": {
      "text/plain": [
       "'p'"
      ]
     },
     "execution_count": 43,
     "metadata": {},
     "output_type": "execute_result"
    }
   ],
   "source": [
    "s[0]"
   ]
  },
  {
   "cell_type": "code",
   "execution_count": 45,
   "id": "86af6ace-941e-41fc-bae5-d6d1ec8dfcc4",
   "metadata": {},
   "outputs": [
    {
     "data": {
      "text/plain": [
       "'s'"
      ]
     },
     "execution_count": 45,
     "metadata": {},
     "output_type": "execute_result"
    }
   ],
   "source": [
    "s[2]"
   ]
  },
  {
   "cell_type": "code",
   "execution_count": 46,
   "id": "e41fd020-0eb5-48be-8089-e44f14ae6e11",
   "metadata": {},
   "outputs": [
    {
     "data": {
      "text/plain": [
       "'k'"
      ]
     },
     "execution_count": 46,
     "metadata": {},
     "output_type": "execute_result"
    }
   ],
   "source": [
    "s[3]"
   ]
  },
  {
   "cell_type": "code",
   "execution_count": 47,
   "id": "7a7283d7-d71f-4453-aeb3-55d7c89c2077",
   "metadata": {},
   "outputs": [
    {
     "data": {
      "text/plain": [
       "'s'"
      ]
     },
     "execution_count": 47,
     "metadata": {},
     "output_type": "execute_result"
    }
   ],
   "source": [
    "s[-1]"
   ]
  },
  {
   "cell_type": "code",
   "execution_count": 48,
   "id": "7e0db363-022e-41e6-af4e-212a4de09e4e",
   "metadata": {},
   "outputs": [
    {
     "data": {
      "text/plain": [
       "'k'"
      ]
     },
     "execution_count": 48,
     "metadata": {},
     "output_type": "execute_result"
    }
   ],
   "source": [
    "s[-5]"
   ]
  },
  {
   "cell_type": "code",
   "execution_count": 50,
   "id": "b19a2a64-2586-4234-a3d7-80d3c1f1bca9",
   "metadata": {},
   "outputs": [
    {
     "data": {
      "text/plain": [
       "'p'"
      ]
     },
     "execution_count": 50,
     "metadata": {},
     "output_type": "execute_result"
    }
   ],
   "source": [
    "s[-8]"
   ]
  },
  {
   "cell_type": "code",
   "execution_count": 51,
   "id": "c62f71b1-4380-4d2c-a3ef-3e1dcd68372f",
   "metadata": {},
   "outputs": [
    {
     "data": {
      "text/plain": [
       "'pws'"
      ]
     },
     "execution_count": 51,
     "metadata": {},
     "output_type": "execute_result"
    }
   ],
   "source": [
    "s[0:3]"
   ]
  },
  {
   "cell_type": "code",
   "execution_count": 52,
   "id": "1fcb0928-416e-47c1-b57d-e3379fb21030",
   "metadata": {},
   "outputs": [
    {
     "data": {
      "text/plain": [
       "'wsk'"
      ]
     },
     "execution_count": 52,
     "metadata": {},
     "output_type": "execute_result"
    }
   ],
   "source": [
    "s[1:4]"
   ]
  },
  {
   "cell_type": "code",
   "execution_count": 54,
   "id": "208b8644-1299-4c72-aab1-2eb83df9079e",
   "metadata": {},
   "outputs": [
    {
     "data": {
      "text/plain": [
       "'psil'"
      ]
     },
     "execution_count": 54,
     "metadata": {},
     "output_type": "execute_result"
    }
   ],
   "source": [
    "s[0:8:2]"
   ]
  },
  {
   "cell_type": "code",
   "execution_count": 55,
   "id": "45f00f94-e863-4e8b-b840-2c1f97c15feb",
   "metadata": {},
   "outputs": [
    {
     "data": {
      "text/plain": [
       "'psil'"
      ]
     },
     "execution_count": 55,
     "metadata": {},
     "output_type": "execute_result"
    }
   ],
   "source": [
    "s[::2]"
   ]
  },
  {
   "cell_type": "code",
   "execution_count": 56,
   "id": "47028ade-2680-4edc-ad73-763048231741",
   "metadata": {},
   "outputs": [
    {
     "data": {
      "text/plain": [
       "'sil'"
      ]
     },
     "execution_count": 56,
     "metadata": {},
     "output_type": "execute_result"
    }
   ],
   "source": [
    "s[2::2]"
   ]
  },
  {
   "cell_type": "code",
   "execution_count": 57,
   "id": "22eafd47-0f1b-4ca6-800a-2f3b1f886f72",
   "metadata": {},
   "outputs": [
    {
     "data": {
      "text/plain": [
       "'sllikswp'"
      ]
     },
     "execution_count": 57,
     "metadata": {},
     "output_type": "execute_result"
    }
   ],
   "source": [
    "s[::-1]"
   ]
  },
  {
   "cell_type": "code",
   "execution_count": 58,
   "id": "50c7a787-90e4-4acc-a479-bda1813c64d7",
   "metadata": {},
   "outputs": [
    {
     "data": {
      "text/plain": [
       "''"
      ]
     },
     "execution_count": 58,
     "metadata": {},
     "output_type": "execute_result"
    }
   ],
   "source": [
    "s[2:7:-1]"
   ]
  },
  {
   "cell_type": "code",
   "execution_count": 60,
   "id": "adc7c3eb-ebe5-4881-8626-93b7d9a90875",
   "metadata": {},
   "outputs": [
    {
     "data": {
      "text/plain": [
       "'sil'"
      ]
     },
     "execution_count": 60,
     "metadata": {},
     "output_type": "execute_result"
    }
   ],
   "source": [
    "s[2:7:2]"
   ]
  },
  {
   "cell_type": "code",
   "execution_count": 61,
   "id": "f568546f-b1d7-4a8c-bfd6-6c7c1a22c405",
   "metadata": {},
   "outputs": [
    {
     "name": "stdout",
     "output_type": "stream",
     "text": [
      "blank isliye h kyu ki direction negative me h\n"
     ]
    }
   ],
   "source": [
    "print(\"blank isliye h kyu ki direction negative me h\")"
   ]
  },
  {
   "cell_type": "code",
   "execution_count": 62,
   "id": "016e62e5-c02d-4a78-8458-87a004cc38ee",
   "metadata": {},
   "outputs": [
    {
     "data": {
      "text/plain": [
       "'slliksw'"
      ]
     },
     "execution_count": 62,
     "metadata": {},
     "output_type": "execute_result"
    }
   ],
   "source": [
    "s[8:0:-1]"
   ]
  },
  {
   "cell_type": "code",
   "execution_count": 63,
   "id": "2ad728c5-9e1b-44ee-8c1f-72c1b0ce540c",
   "metadata": {},
   "outputs": [
    {
     "data": {
      "text/plain": [
       "'sllikswp'"
      ]
     },
     "execution_count": 63,
     "metadata": {},
     "output_type": "execute_result"
    }
   ],
   "source": [
    "s[::-1]"
   ]
  },
  {
   "cell_type": "code",
   "execution_count": 64,
   "id": "9fb20302-d20e-4e8b-86cb-ae945f4a68b6",
   "metadata": {},
   "outputs": [],
   "source": [
    "c = 200"
   ]
  },
  {
   "cell_type": "code",
   "execution_count": 65,
   "id": "00017ed3-c678-48bc-9cb9-bf515e27a2b0",
   "metadata": {},
   "outputs": [],
   "source": [
    "s1 = \"this is my string class\""
   ]
  },
  {
   "cell_type": "code",
   "execution_count": 67,
   "id": "058bf0aa-3a9a-427b-9a67-0bb1d0ae6d57",
   "metadata": {},
   "outputs": [
    {
     "data": {
      "text/plain": [
       "23"
      ]
     },
     "execution_count": 67,
     "metadata": {},
     "output_type": "execute_result"
    }
   ],
   "source": [
    "len(s1)"
   ]
  },
  {
   "cell_type": "code",
   "execution_count": 68,
   "id": "ca16584c-3cf7-426a-8251-621797160d4b",
   "metadata": {},
   "outputs": [
    {
     "data": {
      "text/plain": [
       "3"
      ]
     },
     "execution_count": 68,
     "metadata": {},
     "output_type": "execute_result"
    }
   ],
   "source": [
    "s1.find('s')"
   ]
  },
  {
   "cell_type": "code",
   "execution_count": 69,
   "id": "b3f4184d-e4e8-4bec-b824-4ac6e8855c03",
   "metadata": {},
   "outputs": [
    {
     "data": {
      "text/plain": [
       "5"
      ]
     },
     "execution_count": 69,
     "metadata": {},
     "output_type": "execute_result"
    }
   ],
   "source": [
    "s1.count('s')"
   ]
  },
  {
   "cell_type": "code",
   "execution_count": 70,
   "id": "14282c56-888d-43d2-bd09-5f92b99f6e42",
   "metadata": {},
   "outputs": [
    {
     "data": {
      "text/plain": [
       "1"
      ]
     },
     "execution_count": 70,
     "metadata": {},
     "output_type": "execute_result"
    }
   ],
   "source": [
    "s1.count('st')"
   ]
  },
  {
   "cell_type": "code",
   "execution_count": 71,
   "id": "754966c2-8454-4401-8ca8-2357f494511c",
   "metadata": {},
   "outputs": [
    {
     "data": {
      "text/plain": [
       "0"
      ]
     },
     "execution_count": 71,
     "metadata": {},
     "output_type": "execute_result"
    }
   ],
   "source": [
    "s1.count(\"z\")"
   ]
  },
  {
   "cell_type": "code",
   "execution_count": 72,
   "id": "9b327288-a95f-4975-a66b-7da1c8fe597d",
   "metadata": {},
   "outputs": [
    {
     "data": {
      "text/plain": [
       "'this is my string class'"
      ]
     },
     "execution_count": 72,
     "metadata": {},
     "output_type": "execute_result"
    }
   ],
   "source": [
    "s1"
   ]
  },
  {
   "cell_type": "code",
   "execution_count": 73,
   "id": "f83de1bf-e384-4919-94c3-37dcc07d55da",
   "metadata": {},
   "outputs": [
    {
     "data": {
      "text/plain": [
       "'THIS IS MY STRING CLASS'"
      ]
     },
     "execution_count": 73,
     "metadata": {},
     "output_type": "execute_result"
    }
   ],
   "source": [
    "s1.upper()"
   ]
  },
  {
   "cell_type": "code",
   "execution_count": 75,
   "id": "878fc336-6aaa-44ed-b672-4bd61fbd8d17",
   "metadata": {},
   "outputs": [],
   "source": [
    "s2 = 'THIS IS MY STRING CLASS'"
   ]
  },
  {
   "cell_type": "code",
   "execution_count": 76,
   "id": "362801f2-5d92-474c-a8a6-f5e112b94388",
   "metadata": {},
   "outputs": [
    {
     "data": {
      "text/plain": [
       "'this is my string class'"
      ]
     },
     "execution_count": 76,
     "metadata": {},
     "output_type": "execute_result"
    }
   ],
   "source": [
    "s2.lower()"
   ]
  },
  {
   "cell_type": "code",
   "execution_count": 77,
   "id": "2ccc1c64-3818-4524-92ce-abd56397399b",
   "metadata": {},
   "outputs": [
    {
     "data": {
      "text/plain": [
       "'this is my string class'"
      ]
     },
     "execution_count": 77,
     "metadata": {},
     "output_type": "execute_result"
    }
   ],
   "source": [
    "s1"
   ]
  },
  {
   "cell_type": "code",
   "execution_count": 78,
   "id": "2748aea3-be87-4f77-afaa-74e7f36bfffa",
   "metadata": {},
   "outputs": [
    {
     "data": {
      "text/plain": [
       "'This Is My String Class'"
      ]
     },
     "execution_count": 78,
     "metadata": {},
     "output_type": "execute_result"
    }
   ],
   "source": [
    "s1.title()"
   ]
  },
  {
   "cell_type": "code",
   "execution_count": 79,
   "id": "5148ca84-9e0b-4e2a-b456-05171b7fd995",
   "metadata": {},
   "outputs": [
    {
     "data": {
      "text/plain": [
       "'This is my string class'"
      ]
     },
     "execution_count": 79,
     "metadata": {},
     "output_type": "execute_result"
    }
   ],
   "source": [
    "s1.capitalize()"
   ]
  },
  {
   "cell_type": "code",
   "execution_count": 80,
   "id": "5511d7e0-bcc1-4dc1-aef4-afcdc4a595fb",
   "metadata": {},
   "outputs": [
    {
     "data": {
      "text/plain": [
       "'pwskills'"
      ]
     },
     "execution_count": 80,
     "metadata": {},
     "output_type": "execute_result"
    }
   ],
   "source": [
    "s"
   ]
  },
  {
   "cell_type": "code",
   "execution_count": 82,
   "id": "8539d935-3b6b-42ca-8761-384eebaebe60",
   "metadata": {},
   "outputs": [
    {
     "data": {
      "text/plain": [
       "'pwskillsdeep'"
      ]
     },
     "execution_count": 82,
     "metadata": {},
     "output_type": "execute_result"
    }
   ],
   "source": [
    "s + \"deep\""
   ]
  },
  {
   "cell_type": "code",
   "execution_count": 83,
   "id": "0ac96be6-0052-4644-b667-a0791865833c",
   "metadata": {},
   "outputs": [
    {
     "data": {
      "text/plain": [
       "'pwskills1'"
      ]
     },
     "execution_count": 83,
     "metadata": {},
     "output_type": "execute_result"
    }
   ],
   "source": [
    "s + '1'"
   ]
  },
  {
   "cell_type": "code",
   "execution_count": 84,
   "id": "5adde73b-7427-4d88-8c7d-dd4fdf9607d9",
   "metadata": {},
   "outputs": [
    {
     "data": {
      "text/plain": [
       "'pwskillspwskillspwskills'"
      ]
     },
     "execution_count": 84,
     "metadata": {},
     "output_type": "execute_result"
    }
   ],
   "source": [
    "s * 3"
   ]
  },
  {
   "cell_type": "code",
   "execution_count": 85,
   "id": "1ebaf6e6-8159-4a2c-ba33-9c78c5637a5a",
   "metadata": {},
   "outputs": [
    {
     "data": {
      "text/plain": [
       "'deepakdeepakdeepak'"
      ]
     },
     "execution_count": 85,
     "metadata": {},
     "output_type": "execute_result"
    }
   ],
   "source": [
    "\"deepak\" * 3"
   ]
  },
  {
   "cell_type": "code",
   "execution_count": null,
   "id": "7bdb89bd-3d3e-486b-a883-4173873c2068",
   "metadata": {},
   "outputs": [],
   "source": []
  },
  {
   "cell_type": "code",
   "execution_count": null,
   "id": "1eb67a39-3155-418e-83a7-4f201777b51b",
   "metadata": {},
   "outputs": [],
   "source": []
  },
  {
   "cell_type": "code",
   "execution_count": null,
   "id": "2b4bcdcd-1227-4700-ac18-1106ecb18964",
   "metadata": {},
   "outputs": [],
   "source": []
  }
 ],
 "metadata": {
  "kernelspec": {
   "display_name": "Python 3 (ipykernel)",
   "language": "python",
   "name": "python3"
  },
  "language_info": {
   "codemirror_mode": {
    "name": "ipython",
    "version": 3
   },
   "file_extension": ".py",
   "mimetype": "text/x-python",
   "name": "python",
   "nbconvert_exporter": "python",
   "pygments_lexer": "ipython3",
   "version": "3.10.8"
  }
 },
 "nbformat": 4,
 "nbformat_minor": 5
}
